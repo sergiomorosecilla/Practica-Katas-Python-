{
 "cells": [
  {
   "cell_type": "code",
   "execution_count": 3,
   "id": "32be201a",
   "metadata": {},
   "outputs": [
    {
     "name": "stdout",
     "output_type": "stream",
     "text": [
      "{'H': 1, 'o': 2, 'l': 1, 'a': 1, 'm': 1, 'u': 1, 'n': 1, 'd': 1}\n"
     ]
    }
   ],
   "source": [
    "#1\n",
    "def frecuencias_letras(cadena):\n",
    "    '''\n",
    "    Esta función recibe una cadena de texto y devuelve un diccionario con \n",
    "    la frecuencia de cada letra en la cadena.    \n",
    "    \n",
    "    Parámetros:\n",
    "        -cadena (str): La cadena de texto en la que se contarán las letras.\n",
    "\n",
    "    Return:\n",
    "        -dict: Un diccionario con las letras como claves y los valores \n",
    "               son sus frecuencias en la cadena.\n",
    "    '''\n",
    "    \n",
    "    cadena = cadena.replace(\" \", \"\") # Eliminamos los espacios\n",
    "    frecuencias = {}  # Creamos un diccionario vacío para almacenar las frecuencias\n",
    "    for letra in cadena: # Iteramos sobre cada letra en la cadena\n",
    "        # Si la letra ya está en el diccionario, incrementamos su contador. Si no, la añadimos con un contador de 1.\n",
    "        if letra in frecuencias:  \n",
    "            frecuencias[letra] += 1\n",
    "        else:\n",
    "            frecuencias[letra] = 1\n",
    "    return frecuencias\n",
    "\n",
    "# Ejemplo de uso de la función\n",
    "texto = \"Hola mundo\"\n",
    "resultado = frecuencias_letras(texto)\n",
    "print(resultado)\n"
   ]
  },
  {
   "cell_type": "code",
   "execution_count": 4,
   "id": "fcae52de",
   "metadata": {},
   "outputs": [
    {
     "name": "stdout",
     "output_type": "stream",
     "text": [
      "[2, 4, 6, 8, 10]\n"
     ]
    }
   ],
   "source": [
    "#2\n",
    "def doblar_valor(numeros):\n",
    "    '''\n",
    "    Esta función recibe una lista de números y devuelve una nueva lista \n",
    "    con el doble de cada valor.\n",
    "    \n",
    "    Parámetros:\n",
    "        -numeros (list): Lista de números a procesar.\n",
    "    \n",
    "    Return:\n",
    "        -list: Nueva lista con el doble de cada número.\n",
    "    '''\n",
    "    \n",
    "    return list(map(lambda x: x * 2, numeros))\n",
    "\n",
    "# Ejemplo de uso de la función\n",
    "numeros = [1, 2, 3, 4, 5]\n",
    "resultado = doblar_valor(numeros)\n",
    "print(resultado)  # Salida: [2, 4, 6, 8, 10]"
   ]
  },
  {
   "cell_type": "code",
   "execution_count": 5,
   "id": "d5980144",
   "metadata": {},
   "outputs": [
    {
     "name": "stdout",
     "output_type": "stream",
     "text": [
      "La lista de palabras que contienen la palabra objetivo es: ['mamut', 'mamut', 'mamut']\n"
     ]
    }
   ],
   "source": [
    "#3 Escribe una función que tome una lista de palabras y una palabra objetivo como parámetros. La función debe \n",
    "# devolver una lista con todas las palabras de la lista original que contengan la palabra objetivo.\n",
    "\n",
    "def filtro_palabras(palabra, palabra_objetivo):                      \n",
    "    '''\n",
    "    Función recibe una lista de palabras y una palabra objetivo, \n",
    "    y devuelve una lista con todas las palabras que contienen la palabra objetivo.\n",
    "    \n",
    "    Parámetros:\n",
    "        -palabra (list): Lista de palabras a filtrar.\n",
    "        -palabra_objetivo (str): Palabra que se busca en la lista.\n",
    "    \n",
    "    Return:\n",
    "        -list: Lista de palabras que contienen la palabra objetivo.\n",
    "    '''\n",
    "    #creo una variable con una List Comprehension para crear una lista nueva a partir de la lista inicial\n",
    "    lista_palabras_obejetivo = [palabra for palabra in palabra if palabra_objetivo in palabra]\n",
    "\n",
    "    return print (f'La lista de palabras que contienen la palabra objetivo es: {lista_palabras_obejetivo}')\n",
    "\n",
    "#caso de uso:\n",
    "lista_ejemplo = ['mamut', 'elefante', 'cocodrilo', 'mamut', 'serpiente', 'león', 'mamut']\n",
    "\n",
    "filtro_palabras(lista_ejemplo, 'mamut')  # Salida: ['mamut', 'mamut', 'mamut']\n",
    " \n",
    "\n",
    "\n"
   ]
  },
  {
   "cell_type": "code",
   "execution_count": 6,
   "id": "ccd6d83c",
   "metadata": {},
   "outputs": [
    {
     "name": "stdout",
     "output_type": "stream",
     "text": [
      "La lista con la diferencia entre los valores de las dos listas es: [9, 18, 27, 36]\n"
     ]
    }
   ],
   "source": [
    "# 4) Genera una función que calcule la diferencia entre los valores de dos listas.\n",
    "# Usa la función  map()\n",
    "\n",
    "def diferencia_listas(lista1, lista2):\n",
    "    '''\n",
    "    La función recibe dos listas de números y devuelve una lista con la \n",
    "    diferencia entre los valores correspondientes de ambas listas.\n",
    "    \n",
    "    Parámetros:\n",
    "        -lista1 (list): Primera lista de números.\n",
    "        -lista2 (list): Segunda lista de números.\n",
    "    \n",
    "    Return:\n",
    "        -list: Lista con las diferencias entre los valores de las dos listas.\n",
    "    '''\n",
    "    #Englobo la funcióm map() en list, ya que el ouput de map() es un objeto iterable, y quiero una lista como resultado.\n",
    "    lista_diferencia_valores = list(map(lambda x, y: x - y, lista1, lista2))\n",
    "\n",
    "    return print(f'La lista con la diferencia entre los valores de las dos listas es: {lista_diferencia_valores}')\n",
    "\n",
    "#caso de uso:\n",
    "lista1 = [10, 20, 30, 40]\n",
    "lista2 = [1, 2, 3, 4]\n",
    "\n",
    "\n",
    "\n",
    "diferencia_listas(lista1, lista2)  # Salida: [9, 18, 27, 36]"
   ]
  },
  {
   "cell_type": "code",
   "execution_count": 7,
   "id": "e0e78d79",
   "metadata": {},
   "outputs": [
    {
     "name": "stdout",
     "output_type": "stream",
     "text": [
      "(8.0, 'aprobado')\n"
     ]
    }
   ],
   "source": [
    "# 5) Ecribe una función que tome una lista de números como parámetro y un valor opcional \n",
    "# nota_aprobado, que por defecto es 5. La función debe calcular la media de los números \n",
    "# en la lista y determinar si la media es mayor o igual que nota aprobado. Si es así, \n",
    "# el estado será \"aprobado\", de lo contrario, será \"suspenso\". La función debe devolver \n",
    "# una tupla que contenga la media y el estado.\n",
    "def calculo_aprobado(lista_numeros, nota_aprobado=5):\n",
    "    '''\n",
    "    Esta función recibe una lista de números y un valor opcional nota_aprobado, \n",
    "    calcula la media de los números en la lista y determina si la media es mayor o \n",
    "    igual que nota_aprobado. Devuelve una tupla con la media y el estado (\"aprobado\" o \"suspenso\").\n",
    "    \n",
    "    Parámetros:\n",
    "        -lista_numeros (list): Lista de números a procesar.\n",
    "        -nota_aprobado (float): Valor opcional para determinar el estado de aprobado/suspenso.\n",
    "    \n",
    "    Return:\n",
    "        -tuple: Tupla con la media y el estado.\n",
    "    '''\n",
    "    if not lista_numeros:  # Verifico si la lista está vacía\n",
    "        return print(\"La lista está vacía, no se puede calcular la media ni la calificación.\")\n",
    "    \n",
    "    media = sum(lista_numeros) / len(lista_numeros)  # Calcula la media\n",
    "    estado = \"aprobado\" if media >= nota_aprobado else \"suspenso\"  # Determina el estado\n",
    "    \n",
    "    return (media, estado)\n",
    "\n",
    "# Caso de uso:\n",
    "lista_numeros = [6, 7, 8, 9, 10]\n",
    "calificación = calculo_aprobado(lista_numeros) \n",
    "print(calificación) \n",
    "\n",
    "\n"
   ]
  },
  {
   "cell_type": "code",
   "execution_count": 8,
   "id": "4bfc49a8",
   "metadata": {},
   "outputs": [
    {
     "name": "stdout",
     "output_type": "stream",
     "text": [
      "El factorial de 5 es: 120\n"
     ]
    }
   ],
   "source": [
    "# 6) Escribe una función que calcule el factorial de un número de manera recursiva.\n",
    "\n",
    "def factorial_recursivo(x):\n",
    "    '''\n",
    "    La función calcula el factorial de un número de manera recursiva.\n",
    "    \n",
    "    Parámetros:\n",
    "        -x (int): Número del cual se desea calcular el factorial.\n",
    "    \n",
    "    Return:\n",
    "        -int: El factorial del número n.\n",
    "    '''    \n",
    "    if x < 0:\n",
    "        return 'Número no permitido. Indica un número positivo'\n",
    "    elif x == 0 or x == 1:\n",
    "        return 1\n",
    "    else:\n",
    "        return x * factorial_recursivo(x - 1) # Llamada recursiva\n",
    "    \n",
    "# Caso de uso:\n",
    "numero = 5\n",
    "resultado = (factorial_recursivo(numero))\n",
    "print(f'El factorial de {numero} es: {resultado}')  \n",
    "    "
   ]
  },
  {
   "cell_type": "code",
   "execution_count": 9,
   "id": "cac4a8fa",
   "metadata": {},
   "outputs": [
    {
     "name": "stdout",
     "output_type": "stream",
     "text": [
      "La lista de strings resultante es: ['(1, 2)', '(3, 4)', '(5, 6)']\n"
     ]
    }
   ],
   "source": [
    "# 7) Genera una función que convierta una lista de tuplas a una lista de strings. Usa la función  map()\n",
    "\n",
    "def tuplas_to_strings(lista_tuplas):\n",
    "    '''\n",
    "    La función recibe una lista de tuplas y convierte cada tupla en un string.\n",
    "    \n",
    "    Parámetros:\n",
    "        -lista_tuplas (list): Lista de tuplas a convertir.\n",
    "    \n",
    "    Return:\n",
    "        -list: Lista de strings resultante de la conversión de las tuplas.\n",
    "    '''\n",
    "    return list(map(lambda tupla: str(tupla), lista_tuplas))  # Convierte cada tupla a string\n",
    "    #a lo que despues podríamos aplicar un join() si quisiéramos unir los elementos de cada tupla en un solo string o o que veamos conveniente.\n",
    "\n",
    "# Caso de uso:\n",
    "lista_tuplas = [(1, 2), (3, 4), (5, 6)]\n",
    "resultado = tuplas_to_strings(lista_tuplas) \n",
    "print(f'La lista de strings resultante es: {resultado}') "
   ]
  },
  {
   "cell_type": "code",
   "execution_count": null,
   "id": "bbbbbb15",
   "metadata": {},
   "outputs": [
    {
     "name": "stdout",
     "output_type": "stream",
     "text": [
      "Ingresa dos números y te daremos el resultado de la división\n",
      "Error: No se puede dividir por cero.\n"
     ]
    }
   ],
   "source": [
    "# 8) Escribe un programa que pida al usuario dos números e intente dividirlos. Si el usuario ingresa un valor no numérico \n",
    "# o intenta dividir por cero, maneja esas excepciones de manera adecuada. Asegúrate de mostrar un mensaje \n",
    "# indicando si la división fue exitosa o no.\n",
    "\n",
    "def dividir_numeros():\n",
    "    '''\n",
    "    La función recibe solicita dos números e intenta dividirlos. Manejamos excepciones \n",
    "    para valores no numéricos y división por cero.\n",
    "    \n",
    "    Parámetros:\n",
    "        -num1 (float): Primer número.\n",
    "        -num2 (float): Segundo número.\n",
    "    \n",
    "    Return:\n",
    "        -str: Mensaje indicando si la división fue exitosa o no.\n",
    "\n",
    "    Control excepciones:\n",
    "        - ValueError: Si el usuario ingresa un valor no numérico.\n",
    "        - ZeroDivisionError: Si el usuario intenta dividir por cero.\n",
    "    '''\n",
    "    # Solicito los números al usuario convietiendolos a float para poder hacer la división \n",
    "    # y los envuelvo en un try-except-else para manejar excepciones\n",
    "    try:\n",
    "        print(f'Ingresa dos números y te daremos el resultado de la división')\n",
    "        num1 = float(input(\"Introduce el primer número: \"))\n",
    "        num2 = float(input(\"Introduce el segundo número: \"))\n",
    "        resultado = num1 / num2\n",
    "    except ValueError:\n",
    "        return print(f'Error: Entrada no válida, por favor ingresa números.')\n",
    "    except ZeroDivisionError:\n",
    "        return print(f'Error: No se puede dividir por cero.')\n",
    "    else:\n",
    "        return print(f'El resultado de la división: {round(resultado, 2)}') #pedimos que el resultado se redondee a dos decimales\n",
    "# Orden para poder ejectuar el programa directamente, si se le nombra, ya que no lo importamos.    \n",
    "if __name__ == \"__main__\":\n",
    "    dividir_numeros()   "
   ]
  },
  {
   "cell_type": "code",
   "execution_count": null,
   "id": "9f6057c0",
   "metadata": {},
   "outputs": [
    {
     "name": "stdout",
     "output_type": "stream",
     "text": [
      "['Perro', 'Gato', 'Conejo', 'Hamster']\n"
     ]
    }
   ],
   "source": [
    "# 9)Escribe una función que tome una lista de nombres de mascotas como parámetro y devuelva una nueva lista \n",
    "# excluyendo ciertas mascotas prohibidas en España. La lista de mascotas a excluir es [\"Mapache\", \"Tigre\", \n",
    "# \"Serpiente Pitón\", \"Cocodrilo\", \"Oso\"].Usa la función  filter()\n",
    "\n",
    "def mascotas_permitidas(mascotas):\n",
    "    '''\n",
    "    La función recibe una lista de nombres de mascotas y devuelve una nueva lista \n",
    "    excluyendo ciertas mascotas prohibidas en España.\n",
    "    \n",
    "    Parámetros:\n",
    "        -mascotas (list): Lista de nombres de mascotas a filtrar.\n",
    "    \n",
    "    Return:\n",
    "        -list: Nueva lista con las mascotas permitidas, excluyendo las no permitidas.\n",
    "    '''\n",
    "    # Lista de mascotas prohibidas\n",
    "    mascotas_prohibidas = [\"Mapache\", \"Tigre\", \"Serpiente Pitón\", \"Cocodrilo\", \"Oso\"] \n",
    "    # devolvemos un print del resultado de un filter() para filtrar con una función lambda\n",
    "    # las mascotas que no están en la lista de prohibidas, convirtiendolo a lista\n",
    "    return print(list(filter(lambda mascota: mascota not in mascotas_prohibidas, mascotas)))\n",
    "\n",
    "# Caso de uso:\n",
    "mascotas = [\"Mapache\", \"Perro\", \"Gato\", \"Serpiente Pitón\", \"Conejo\", \"Cocodrilo\", \"Oso\", \"Hamster\"]\n",
    "mascotas_permitidas(mascotas) "
   ]
  },
  {
   "cell_type": "code",
   "execution_count": null,
   "id": "3f239082",
   "metadata": {},
   "outputs": [],
   "source": [
    "# 10) Escribe una función que reciba una lista de números y calcule su promedio. Si la lista está vacía, \n",
    "# lanza una excepción personalizada y maneja el error adecuadamente.\n",
    "\n",
    "def calcular_promedio(lista_numeros):     \n",
    "    '''\n",
    "    La función recibe una lista de números y calcula su promedio. Si la lista está vacía, \n",
    "    lanza una excepción personalizada y maneja el error adecuadamente.\n",
    "    \n",
    "    Parámetros:\n",
    "        -numeros (list): Lista de números a procesar.\n",
    "    \n",
    "    Return:\n",
    "        -float: Promedio de los números en la lista.\n",
    "\n",
    "    Control excepciones:\n",
    "        - ValueError\": para controlar si error si la lista está vacía.\n",
    "    '''\n",
    "    try:\n",
    "        if not lista_numeros:\n",
    "            raise ValueError(\"La lista está vacía, no se puede calcular el promedio.\")\n",
    "        return sum(lista_numeros) / len(lista_numeros)  # Calcula el promedio\n",
    "   # Si entra la excepción personalizada, esta parte la recoge y muestra el mensaje de error\n",
    "    except ValueError as e:\n",
    "        print(e) \n",
    "\n"
   ]
  },
  {
   "cell_type": "code",
   "execution_count": 10,
   "id": "ad8594fc",
   "metadata": {},
   "outputs": [
    {
     "name": "stdout",
     "output_type": "stream",
     "text": [
      "Tu edad es: 41\n"
     ]
    }
   ],
   "source": [
    "# 11)Escribe un programa que pida al usuario que introduzca su edad. Si el usuario ingresa un valor \n",
    "# no numérico o un valor fuera del rango esperado (por ejemplo, menor que 0 o mayor que 120), maneja las \n",
    "# excepciones adecuadamente.\n",
    "def pedir_edad():\n",
    "    '''\n",
    "    La función solicita al usuario que introduzca su edad y maneja excepciones \n",
    "    para valores no numéricos o fuera del rango esperado.\n",
    "    \n",
    "    Parámetros:\n",
    "        -edad (int): Edad introducida por el usuario.\n",
    "    \n",
    "    Return:\n",
    "        -str: Mensaje indicando si la edad es válida o no.\n",
    "    '''\n",
    "    try:\n",
    "        edad = int(input(\"Por favor, introduce tu edad: \"))\n",
    "        if edad < 0 or edad > 120:\n",
    "            raise ValueError(\"Edad fuera del rango esperado (0-120).\")\n",
    "    except ValueError as e:\n",
    "        return print(f'Error: {e}')\n",
    "    else:\n",
    "        return print(f'Tu edad es: {edad}')\n",
    "    \n",
    "#Caso de uso:\n",
    "pedir_edad()  # Solicita al usuario que introduzca su edad y maneja excepciones"
   ]
  },
  {
   "cell_type": "code",
   "execution_count": 6,
   "id": "1e60b82b",
   "metadata": {},
   "outputs": [
    {
     "name": "stdout",
     "output_type": "stream",
     "text": [
      "[4, 5, 4, 2, 3, 6]\n"
     ]
    }
   ],
   "source": [
    "# 12)Genera una función que al recibir una frase devuelva una lista con la longitud de cada palabra. \n",
    "# Usa la función  map()\n",
    "\n",
    "def longitud_palabras(frase):\n",
    "    '''\n",
    "    La función recibe una frase y devuelve una lista con la longitud de cada palabra.\n",
    "    \n",
    "    Parámetros:\n",
    "        -frase (str): Frase a procesar.\n",
    "    \n",
    "    Return:\n",
    "        -list: Lista con la longitud de cada palabra en la frase.\n",
    "    '''\n",
    "    # Utilizamos map() para aplicar la función len a cada palabra de la frase\n",
    "    # Primero dividimos la frase en palabras usando split() y luego aplicamos len a cada palabra\n",
    "    longitudes = list(map(lambda palabra: len(palabra), frase.split())) \n",
    "    return longitudes\n",
    "\n",
    "#caso de uso:\n",
    "frase1 = \"Hola mundo esto es una prueba\"\n",
    "print(longitud_palabras(frase1))  "
   ]
  }
 ],
 "metadata": {
  "kernelspec": {
   "display_name": "Python 3",
   "language": "python",
   "name": "python3"
  },
  "language_info": {
   "codemirror_mode": {
    "name": "ipython",
    "version": 3
   },
   "file_extension": ".py",
   "mimetype": "text/x-python",
   "name": "python",
   "nbconvert_exporter": "python",
   "pygments_lexer": "ipython3",
   "version": "3.12.6"
  }
 },
 "nbformat": 4,
 "nbformat_minor": 5
}
