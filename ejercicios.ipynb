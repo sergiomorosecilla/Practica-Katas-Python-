{
 "cells": [
  {
   "cell_type": "code",
   "execution_count": null,
   "id": "32be201a",
   "metadata": {},
   "outputs": [
    {
     "name": "stdout",
     "output_type": "stream",
     "text": [
      "{'H': 1, 'o': 2, 'l': 1, 'a': 1, 'm': 1, 'u': 1, 'n': 1, 'd': 1}\n"
     ]
    }
   ],
   "source": [
    "#1\n",
    "def frecuencias_letras(cadena):\n",
    "    '''\n",
    "    Esta función recibe una cadena de texto y devuelve un diccionario con \n",
    "    la frecuencia de cada letra en la cadena.    \n",
    "    \n",
    "    Parámetros:\n",
    "        -cadena (str): La cadena de texto en la que se contarán las letras.\n",
    "\n",
    "    Return:\n",
    "        -dict: Un diccionario con las letras como claves y los valores \n",
    "               son sus frecuencias en la cadena.\n",
    "    '''\n",
    "    \n",
    "    cadena = cadena.replace(\" \", \"\") # Eliminamos los espacios\n",
    "    frecuencias = {}  # Creamos un diccionario vacío para almacenar las frecuencias\n",
    "    for letra in cadena: # Iteramos sobre cada letra en la cadena\n",
    "        # Si la letra ya está en el diccionario, incrementamos su contador. Si no, la añadimos con un contador de 1.\n",
    "        if letra in frecuencias:  \n",
    "            frecuencias[letra] += 1\n",
    "        else:\n",
    "            frecuencias[letra] = 1\n",
    "    return frecuencias\n",
    "\n",
    "# Ejemplo de uso de la función\n",
    "texto = \"Hola mundo\"\n",
    "resultado = frecuencias_letras(texto)\n",
    "print(resultado)\n"
   ]
  },
  {
   "cell_type": "code",
   "execution_count": null,
   "id": "fcae52de",
   "metadata": {},
   "outputs": [],
   "source": [
    "#2"
   ]
  }
 ],
 "metadata": {
  "kernelspec": {
   "display_name": "Python 3",
   "language": "python",
   "name": "python3"
  },
  "language_info": {
   "codemirror_mode": {
    "name": "ipython",
    "version": 3
   },
   "file_extension": ".py",
   "mimetype": "text/x-python",
   "name": "python",
   "nbconvert_exporter": "python",
   "pygments_lexer": "ipython3",
   "version": "3.12.6"
  }
 },
 "nbformat": 4,
 "nbformat_minor": 5
}
