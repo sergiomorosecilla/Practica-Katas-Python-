{
 "cells": [
  {
   "cell_type": "code",
   "execution_count": null,
   "id": "32be201a",
   "metadata": {},
   "outputs": [
    {
     "name": "stdout",
     "output_type": "stream",
     "text": [
      "{'H': 1, 'o': 2, 'l': 1, 'a': 1, 'm': 1, 'u': 1, 'n': 1, 'd': 1}\n"
     ]
    }
   ],
   "source": [
    "#1\n",
    "def frecuencias_letras(cadena):\n",
    "    '''\n",
    "    Esta función recibe una cadena de texto y devuelve un diccionario con \n",
    "    la frecuencia de cada letra en la cadena.    \n",
    "    \n",
    "    Parámetros:\n",
    "        -cadena (str): La cadena de texto en la que se contarán las letras.\n",
    "\n",
    "    Return:\n",
    "        -dict: Un diccionario con las letras como claves y los valores \n",
    "               son sus frecuencias en la cadena.\n",
    "    '''\n",
    "    \n",
    "    cadena = cadena.replace(\" \", \"\") # Eliminamos los espacios\n",
    "    frecuencias = {}  # Creamos un diccionario vacío para almacenar las frecuencias\n",
    "    for letra in cadena: # Iteramos sobre cada letra en la cadena\n",
    "        # Si la letra ya está en el diccionario, incrementamos su contador. Si no, la añadimos con un contador de 1.\n",
    "        if letra in frecuencias:  \n",
    "            frecuencias[letra] += 1\n",
    "        else:\n",
    "            frecuencias[letra] = 1\n",
    "    return frecuencias\n",
    "\n",
    "# Ejemplo de uso de la función\n",
    "texto = \"Hola mundo\"\n",
    "resultado = frecuencias_letras(texto)\n",
    "print(resultado)\n"
   ]
  },
  {
   "cell_type": "code",
   "execution_count": 3,
   "id": "fcae52de",
   "metadata": {},
   "outputs": [
    {
     "name": "stdout",
     "output_type": "stream",
     "text": [
      "[2, 4, 6, 8, 10]\n"
     ]
    }
   ],
   "source": [
    "#2\n",
    "def doblar_valor(numeros):\n",
    "    '''\n",
    "    Esta función recibe una lista de números y devuelve una nueva lista \n",
    "    con el doble de cada valor.\n",
    "    \n",
    "    Parámetros:\n",
    "        -numeros (list): Lista de números a procesar.\n",
    "    \n",
    "    Return:\n",
    "        -list: Nueva lista con el doble de cada número.\n",
    "    '''\n",
    "    \n",
    "    return list(map(lambda x: x * 2, numeros))\n",
    "\n",
    "# Ejemplo de uso de la función\n",
    "numeros = [1, 2, 3, 4, 5]\n",
    "resultado = doblar_valor(numeros)\n",
    "print(resultado)  # Salida: [2, 4, 6, 8, 10]"
   ]
  },
  {
   "cell_type": "code",
   "execution_count": null,
   "id": "d5980144",
   "metadata": {},
   "outputs": [
    {
     "name": "stdout",
     "output_type": "stream",
     "text": [
      "['mamut', 'mamut', 'mamut']\n"
     ]
    },
    {
     "data": {
      "text/plain": [
       "list"
      ]
     },
     "execution_count": 7,
     "metadata": {},
     "output_type": "execute_result"
    }
   ],
   "source": [
    "#3 Escribe una función que tome una lista de palabras y una palabra objetivo como parámetros. La función debe \n",
    "# devolver una lista con todas las palabras de la lista original que contengan la palabra objetivo.\n",
    "\n",
    "def filtro_palabras(palabra, palabra_objetivo):                      \n",
    "    '''\n",
    "    Función recibe una lista de palabras y una palabra objetivo, \n",
    "    y devuelve una lista con todas las palabras que contienen la palabra objetivo.\n",
    "    \n",
    "    Parámetros:\n",
    "        -palabra (list): Lista de palabras a filtrar.\n",
    "        -palabra_objetivo (str): Palabra que se busca en la lista.\n",
    "    \n",
    "    Return:\n",
    "        -list: Lista de palabras que contienen la palabra objetivo.\n",
    "    '''\n",
    "    #creo una variable con una List Comprehension para crear una lista nueva a partir de la lista inicial\n",
    "    lista_palabras_obejetivo = [palabra for palabra in palabra if palabra_objetivo in palabra]\n",
    "\n",
    "    return print (f'La lista de palabras que contienen la palabra objetivo es: {lista_palabras_obejetivo}')\n",
    "\n",
    "#caso de uso:\n",
    "lista_ejemplo = ['mamut', 'elefante', 'cocodrilo', 'mamut', 'serpiente', 'león', 'mamut']\n",
    "\n",
    "filtro_palabras(lista_ejemplo, 'mamut')  # Salida: ['mamut', 'mamut', 'mamut']\n",
    " \n",
    "\n",
    "\n"
   ]
  },
  {
   "cell_type": "code",
   "execution_count": null,
   "id": "ccd6d83c",
   "metadata": {},
   "outputs": [
    {
     "name": "stdout",
     "output_type": "stream",
     "text": [
      "La lista con la diferencia entre los valores de las dos listas es: [9, 18, 27, 36]\n"
     ]
    }
   ],
   "source": [
    "# 4) Genera una función que calcule la diferencia entre los valores de dos listas.\n",
    "# Usa la función  map()\n",
    "\n",
    "def diferencia_listas(lista1, lista2):\n",
    "    '''\n",
    "    La función recibe dos listas de números y devuelve una lista con la \n",
    "    diferencia entre los valores correspondientes de ambas listas.\n",
    "    \n",
    "    Parámetros:\n",
    "        -lista1 (list): Primera lista de números.\n",
    "        -lista2 (list): Segunda lista de números.\n",
    "    \n",
    "    Return:\n",
    "        -list: Lista con las diferencias entre los valores de las dos listas.\n",
    "    '''\n",
    "    #Englobo la funcióm map() en list, ya que el ouput de map() es un objeto iterable, y quiero una lista como resultado.\n",
    "    lista_diferencia_valores = list(map(lambda x, y: x - y, lista1, lista2))\n",
    "\n",
    "    return print(f'La lista con la diferencia entre los valores de las dos listas es: {lista_diferencia_valores}')\n",
    "\n",
    "#caso de uso:\n",
    "lista1 = [10, 20, 30, 40]\n",
    "lista2 = [1, 2, 3, 4]\n",
    "\n",
    "\n",
    "\n",
    "diferencia_listas(lista1, lista2)  # Salida: [9, 18, 27, 36]"
   ]
  },
  {
   "cell_type": "code",
   "execution_count": null,
   "id": "e0e78d79",
   "metadata": {},
   "outputs": [
    {
     "name": "stdout",
     "output_type": "stream",
     "text": [
      "(8.0, 'aprobado')\n"
     ]
    },
    {
     "data": {
      "text/plain": [
       "list"
      ]
     },
     "execution_count": 21,
     "metadata": {},
     "output_type": "execute_result"
    }
   ],
   "source": [
    "# 5) Ecribe una función que tome una lista de números como parámetro y un valor opcional \n",
    "# nota_aprobado, que por defecto es 5. La función debe calcular la media de los números \n",
    "# en la lista y determinar si la media es mayor o igual que nota aprobado. Si es así, \n",
    "# el estado será \"aprobado\", de lo contrario, será \"suspenso\". La función debe devolver \n",
    "# una tupla que contenga la media y el estado.\n",
    "def calculo_aprobado(lista_numeros, nota_aprobado=5):\n",
    "    '''\n",
    "    Esta función recibe una lista de números y un valor opcional nota_aprobado, \n",
    "    calcula la media de los números en la lista y determina si la media es mayor o \n",
    "    igual que nota_aprobado. Devuelve una tupla con la media y el estado (\"aprobado\" o \"suspenso\").\n",
    "    \n",
    "    Parámetros:\n",
    "        -lista_numeros (list): Lista de números a procesar.\n",
    "        -nota_aprobado (float): Valor opcional para determinar el estado de aprobado/suspenso.\n",
    "    \n",
    "    Return:\n",
    "        -tuple: Tupla con la media y el estado.\n",
    "    '''\n",
    "    if not lista_numeros:  # Verifico si la lista está vacía\n",
    "        return print(\"La lista está vacía, no se puede calcular la media ni la calificación.\")\n",
    "    \n",
    "    media = sum(lista_numeros) / len(lista_numeros)  # Calcula la media\n",
    "    estado = \"aprobado\" if media >= nota_aprobado else \"suspenso\"  # Determina el estado\n",
    "    \n",
    "    return (media, estado)\n",
    "\n",
    "# Caso de uso:\n",
    "lista_numeros = [6, 7, 8, 9, 10]\n",
    "calificación = calculo_aprobado(lista_numeros) \n",
    "print(calificación) \n",
    "\n",
    "\n"
   ]
  },
  {
   "cell_type": "code",
   "execution_count": null,
   "id": "4bfc49a8",
   "metadata": {},
   "outputs": [],
   "source": [
    "# 6) Escribe una función que calcule el factorial de un número de manera recursiva.\n",
    "\n",
    "def factorial_recursivo(x):\n",
    "\n",
    "    "
   ]
  }
 ],
 "metadata": {
  "kernelspec": {
   "display_name": "Python 3",
   "language": "python",
   "name": "python3"
  },
  "language_info": {
   "codemirror_mode": {
    "name": "ipython",
    "version": 3
   },
   "file_extension": ".py",
   "mimetype": "text/x-python",
   "name": "python",
   "nbconvert_exporter": "python",
   "pygments_lexer": "ipython3",
   "version": "3.12.6"
  }
 },
 "nbformat": 4,
 "nbformat_minor": 5
}
